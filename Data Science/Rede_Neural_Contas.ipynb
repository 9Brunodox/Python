{
  "cells": [
    {
      "attachments": {},
      "cell_type": "markdown",
      "metadata": {
        "id": "LZVGJB7hQHP9"
      },
      "source": [
        "# Exercicios"
      ]
    },
    {
      "attachments": {},
      "cell_type": "markdown",
      "metadata": {
        "id": "A7wZgu9CUzra"
      },
      "source": [
        "1. Tabela de SOMA: treine uma rede neural capaz de resolver um problema de SOMA entre X1 e X2. A estrutura deverá ser de 2 entradas com um neurônio, o qual gera uma saída. X1 será um valor de 1 a 1000 e X2 um valor de 1 a 1000."
      ]
    },
    {
      "cell_type": "code",
      "execution_count": null,
      "metadata": {
        "id": "PLHiAuBnY6Jl"
      },
      "outputs": [],
      "source": [
        "!pip install tensorflow\n"
      ]
    },
    {
      "cell_type": "code",
      "execution_count": 5,
      "metadata": {
        "colab": {
          "base_uri": "https://localhost:8080/"
        },
        "id": "XchCO7YhQId4",
        "outputId": "5b3b0906-fb03-4e08-ffb1-912744486c93"
      },
      "outputs": [
        {
          "name": "stdout",
          "output_type": "stream",
          "text": [
            "Epoch 1/10\n",
            "25000/25000 [==============================] - 40s 2ms/step - loss: 41480.6133\n",
            "Epoch 2/10\n",
            "25000/25000 [==============================] - 34s 1ms/step - loss: 3.5678e-15\n",
            "Epoch 3/10\n",
            "25000/25000 [==============================] - 34s 1ms/step - loss: 0.0000e+00\n",
            "Epoch 4/10\n",
            "25000/25000 [==============================] - 34s 1ms/step - loss: 0.0000e+00\n",
            "Epoch 5/10\n",
            "25000/25000 [==============================] - 33s 1ms/step - loss: 0.0000e+00\n",
            "Epoch 6/10\n",
            "25000/25000 [==============================] - 36s 1ms/step - loss: 0.0000e+00\n",
            "Epoch 7/10\n",
            "25000/25000 [==============================] - 34s 1ms/step - loss: 0.0000e+00\n",
            "Epoch 8/10\n",
            "25000/25000 [==============================] - 33s 1ms/step - loss: 0.0000e+00\n",
            "Epoch 9/10\n",
            "25000/25000 [==============================] - 34s 1ms/step - loss: 0.0000e+00\n",
            "Epoch 10/10\n",
            "25000/25000 [==============================] - 44s 2ms/step - loss: 0.0000e+00\n",
            "6250/6250 [==============================] - 8s 1ms/step - loss: 0.0000e+00\n",
            "Test loss: 0.0000\n"
          ]
        }
      ],
      "source": [
        "import numpy as np\n",
        "import tensorflow as tf\n",
        "from tensorflow.keras.models import Sequential\n",
        "from tensorflow.keras.layers import Dense\n",
        "from sklearn.model_selection import train_test_split\n",
        "\n",
        "X1, X2, y = [], [], []\n",
        "for x1 in range(1, 1001):\n",
        "    for x2 in range(1, 1001):\n",
        "        result = x1 + x2\n",
        "        X1.append(x1)\n",
        "        X2.append(x2)\n",
        "        y.append(result)\n",
        "\n",
        "X1 = np.array(X1)\n",
        "X2 = np.array(X2)\n",
        "y = np.array(y)\n",
        "\n",
        "X1_train, X1_test, X2_train, X2_test, y_train, y_test = train_test_split(X1, X2, y, test_size=0.2, random_state=42)\n",
        "\n",
        "model = Sequential()\n",
        "model.add(Dense(1, input_shape=(2,), activation='linear'))\n",
        "\n",
        "model.compile(optimizer='adam', loss='mean_squared_error')\n",
        "\n",
        "model.fit(np.column_stack((X1_train, X2_train)), y_train, epochs=10, batch_size=32)\n",
        "\n",
        "loss = model.evaluate(np.column_stack((X1_test, X2_test)), y_test)\n",
        "print(f\"Test loss: {loss:.4f}\")\n",
        "\n"
      ]
    },
    {
      "attachments": {},
      "cell_type": "markdown",
      "metadata": {
        "id": "RAPO301iVKkD"
      },
      "source": [
        "2. Tabela de Multiplicação variada: crie uma rede neural capaz de resolver um problema de multiplicação X1 e X2. X1 será de 1 a 10 e X2 será de 1 a 100. A estrutura deverá ser de 2 entrada com um neurônio e uma saída."
      ]
    },
    {
      "cell_type": "code",
      "execution_count": 9,
      "metadata": {
        "colab": {
          "base_uri": "https://localhost:8080/"
        },
        "id": "c_tbXKBUVgzN",
        "outputId": "4cee169b-40c5-4f43-c456-862a06c6073c"
      },
      "outputs": [
        {
          "name": "stdout",
          "output_type": "stream",
          "text": [
            "Epoch 1/50\n",
            "25/25 - 0s - loss: 0.3962 - 323ms/epoch - 13ms/step\n",
            "Epoch 2/50\n",
            "25/25 - 0s - loss: 0.3359 - 32ms/epoch - 1ms/step\n",
            "Epoch 3/50\n",
            "25/25 - 0s - loss: 0.2834 - 29ms/epoch - 1ms/step\n",
            "Epoch 4/50\n",
            "25/25 - 0s - loss: 0.2373 - 32ms/epoch - 1ms/step\n",
            "Epoch 5/50\n",
            "25/25 - 0s - loss: 0.1980 - 31ms/epoch - 1ms/step\n",
            "Epoch 6/50\n",
            "25/25 - 0s - loss: 0.1644 - 29ms/epoch - 1ms/step\n",
            "Epoch 7/50\n",
            "25/25 - 0s - loss: 0.1362 - 43ms/epoch - 2ms/step\n",
            "Epoch 8/50\n",
            "25/25 - 0s - loss: 0.1123 - 33ms/epoch - 1ms/step\n",
            "Epoch 9/50\n",
            "25/25 - 0s - loss: 0.0928 - 31ms/epoch - 1ms/step\n",
            "Epoch 10/50\n",
            "25/25 - 0s - loss: 0.0766 - 30ms/epoch - 1ms/step\n",
            "Epoch 11/50\n",
            "25/25 - 0s - loss: 0.0637 - 29ms/epoch - 1ms/step\n",
            "Epoch 12/50\n",
            "25/25 - 0s - loss: 0.0531 - 29ms/epoch - 1ms/step\n",
            "Epoch 13/50\n",
            "25/25 - 0s - loss: 0.0448 - 30ms/epoch - 1ms/step\n",
            "Epoch 14/50\n",
            "25/25 - 0s - loss: 0.0384 - 55ms/epoch - 2ms/step\n",
            "Epoch 15/50\n",
            "25/25 - 0s - loss: 0.0332 - 46ms/epoch - 2ms/step\n",
            "Epoch 16/50\n",
            "25/25 - 0s - loss: 0.0293 - 43ms/epoch - 2ms/step\n",
            "Epoch 17/50\n",
            "25/25 - 0s - loss: 0.0263 - 36ms/epoch - 1ms/step\n",
            "Epoch 18/50\n",
            "25/25 - 0s - loss: 0.0240 - 41ms/epoch - 2ms/step\n",
            "Epoch 19/50\n",
            "25/25 - 0s - loss: 0.0223 - 40ms/epoch - 2ms/step\n",
            "Epoch 20/50\n",
            "25/25 - 0s - loss: 0.0209 - 43ms/epoch - 2ms/step\n",
            "Epoch 21/50\n",
            "25/25 - 0s - loss: 0.0199 - 39ms/epoch - 2ms/step\n",
            "Epoch 22/50\n",
            "25/25 - 0s - loss: 0.0191 - 44ms/epoch - 2ms/step\n",
            "Epoch 23/50\n",
            "25/25 - 0s - loss: 0.0185 - 53ms/epoch - 2ms/step\n",
            "Epoch 24/50\n",
            "25/25 - 0s - loss: 0.0179 - 46ms/epoch - 2ms/step\n",
            "Epoch 25/50\n",
            "25/25 - 0s - loss: 0.0175 - 45ms/epoch - 2ms/step\n",
            "Epoch 26/50\n",
            "25/25 - 0s - loss: 0.0171 - 41ms/epoch - 2ms/step\n",
            "Epoch 27/50\n",
            "25/25 - 0s - loss: 0.0167 - 41ms/epoch - 2ms/step\n",
            "Epoch 28/50\n",
            "25/25 - 0s - loss: 0.0164 - 44ms/epoch - 2ms/step\n",
            "Epoch 29/50\n",
            "25/25 - 0s - loss: 0.0161 - 41ms/epoch - 2ms/step\n",
            "Epoch 30/50\n",
            "25/25 - 0s - loss: 0.0158 - 43ms/epoch - 2ms/step\n",
            "Epoch 31/50\n",
            "25/25 - 0s - loss: 0.0155 - 49ms/epoch - 2ms/step\n",
            "Epoch 32/50\n",
            "25/25 - 0s - loss: 0.0152 - 44ms/epoch - 2ms/step\n",
            "Epoch 33/50\n",
            "25/25 - 0s - loss: 0.0150 - 49ms/epoch - 2ms/step\n",
            "Epoch 34/50\n",
            "25/25 - 0s - loss: 0.0147 - 50ms/epoch - 2ms/step\n",
            "Epoch 35/50\n",
            "25/25 - 0s - loss: 0.0144 - 47ms/epoch - 2ms/step\n",
            "Epoch 36/50\n",
            "25/25 - 0s - loss: 0.0142 - 49ms/epoch - 2ms/step\n",
            "Epoch 37/50\n",
            "25/25 - 0s - loss: 0.0139 - 41ms/epoch - 2ms/step\n",
            "Epoch 38/50\n",
            "25/25 - 0s - loss: 0.0136 - 39ms/epoch - 2ms/step\n",
            "Epoch 39/50\n",
            "25/25 - 0s - loss: 0.0134 - 40ms/epoch - 2ms/step\n",
            "Epoch 40/50\n",
            "25/25 - 0s - loss: 0.0132 - 40ms/epoch - 2ms/step\n",
            "Epoch 41/50\n",
            "25/25 - 0s - loss: 0.0129 - 40ms/epoch - 2ms/step\n",
            "Epoch 42/50\n",
            "25/25 - 0s - loss: 0.0127 - 49ms/epoch - 2ms/step\n",
            "Epoch 43/50\n",
            "25/25 - 0s - loss: 0.0125 - 50ms/epoch - 2ms/step\n",
            "Epoch 44/50\n",
            "25/25 - 0s - loss: 0.0122 - 46ms/epoch - 2ms/step\n",
            "Epoch 45/50\n",
            "25/25 - 0s - loss: 0.0120 - 45ms/epoch - 2ms/step\n",
            "Epoch 46/50\n",
            "25/25 - 0s - loss: 0.0118 - 45ms/epoch - 2ms/step\n",
            "Epoch 47/50\n",
            "25/25 - 0s - loss: 0.0116 - 46ms/epoch - 2ms/step\n",
            "Epoch 48/50\n",
            "25/25 - 0s - loss: 0.0114 - 45ms/epoch - 2ms/step\n",
            "Epoch 49/50\n",
            "25/25 - 0s - loss: 0.0112 - 44ms/epoch - 2ms/step\n",
            "Epoch 50/50\n",
            "25/25 - 0s - loss: 0.0110 - 45ms/epoch - 2ms/step\n",
            "7/7 [==============================] - 0s 4ms/step - loss: 0.0112\n",
            "Test loss: 0.0112\n"
          ]
        }
      ],
      "source": [
        "X1, X2, y = [], [], []\n",
        "for x1 in range(1, 11):\n",
        "    for x2 in range(1, 101):\n",
        "        result = x1 * x2\n",
        "        X1.append(x1 / 10)\n",
        "        X2.append(x2 / 100)\n",
        "        y.append(result / 1000)\n",
        "\n",
        "X1 = np.array(X1)\n",
        "X2 = np.array(X2)\n",
        "y = np.array(y)\n",
        "\n",
        "X1_train, X1_test, X2_train, X2_test, y_train, y_test = train_test_split(X1, X2, y, test_size=0.2, random_state=42)\n",
        "\n",
        "model = Sequential()\n",
        "model.add(Dense(1, input_shape=(2,), activation='linear'))\n",
        "\n",
        "model.compile(optimizer='adam', loss='mean_squared_error')\n",
        "\n",
        "model.fit(np.column_stack((X1_train, X2_train)), y_train, epochs=50, batch_size=32, verbose=2)\n",
        "\n",
        "loss = model.evaluate(np.column_stack((X1_test, X2_test)), y_test)\n",
        "print(f\"Test loss: {loss:.4f}\")"
      ]
    }
  ],
  "metadata": {
    "colab": {
      "provenance": []
    },
    "kernelspec": {
      "display_name": "Python 3",
      "name": "python3"
    },
    "language_info": {
      "name": "python"
    }
  },
  "nbformat": 4,
  "nbformat_minor": 0
}
